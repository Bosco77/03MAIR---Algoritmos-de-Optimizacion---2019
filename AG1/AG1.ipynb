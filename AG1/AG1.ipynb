{
  "nbformat": 4,
  "nbformat_minor": 0,
  "metadata": {
    "colab": {
      "name": "Untitled",
      "provenance": [],
      "collapsed_sections": [],
      "include_colab_link": true
    },
    "kernelspec": {
      "name": "python3",
      "display_name": "Python 3"
    }
  },
  "cells": [
    {
      "cell_type": "markdown",
      "metadata": {
        "id": "view-in-github",
        "colab_type": "text"
      },
      "source": [
        "<a href=\"https://colab.research.google.com/github/Bosco77/03MAIR---Algoritmos-de-Optimizacion---2019/blob/master/AG1/AG1.ipynb\" target=\"_parent\"><img src=\"https://colab.research.google.com/assets/colab-badge.svg\" alt=\"Open In Colab\"/></a>"
      ]
    },
    {
      "cell_type": "markdown",
      "metadata": {
        "id": "S0tOCxcUl3Jq",
        "colab_type": "text"
      },
      "source": [
        "Actividad Guiada 1 Algoritmos de Optimización.\n",
        "\n",
        "Alejandro Vilalta\n",
        "\n",
        "https://colab.research.google.com/drive/1tBey6lX4m1Bh8amU7pAE2KqAImPoqFkH\n",
        "\n",
        "https://github.com/Bosco77/03MAIR---Algoritmos-de-Optimizacion---2019/tree/master/AG1\n"
      ]
    },
    {
      "cell_type": "code",
      "metadata": {
        "id": "oZzhZCZLoDuc",
        "colab_type": "code",
        "colab": {
          "base_uri": "https://localhost:8080/",
          "height": 272
        },
        "outputId": "e2e61f5f-b6c5-4b82-a9a3-af7322bbe68a"
      },
      "source": [
        "def torres(N, desde, hasta):\n",
        "  if N == 1:\n",
        "    print(\"LLeva la ficha desde\", str(desde), \"hasta\", str(hasta))\n",
        "  else:\n",
        "    torres(N-1, desde, 6-desde-hasta )\n",
        "    print(\"LLeva la ficha desde\", str(desde), \"hasta\", str(hasta))\n",
        "    torres(N-1, 6-desde-hasta, hasta )\n",
        "\n",
        "\n",
        "torres(4,1,3)"
      ],
      "execution_count": 1,
      "outputs": [
        {
          "output_type": "stream",
          "text": [
            "LLeva la ficha desde 1 hasta 2\n",
            "LLeva la ficha desde 1 hasta 3\n",
            "LLeva la ficha desde 2 hasta 3\n",
            "LLeva la ficha desde 1 hasta 2\n",
            "LLeva la ficha desde 3 hasta 1\n",
            "LLeva la ficha desde 3 hasta 2\n",
            "LLeva la ficha desde 1 hasta 2\n",
            "LLeva la ficha desde 1 hasta 3\n",
            "LLeva la ficha desde 2 hasta 3\n",
            "LLeva la ficha desde 2 hasta 1\n",
            "LLeva la ficha desde 3 hasta 1\n",
            "LLeva la ficha desde 2 hasta 3\n",
            "LLeva la ficha desde 1 hasta 2\n",
            "LLeva la ficha desde 1 hasta 3\n",
            "LLeva la ficha desde 2 hasta 3\n"
          ],
          "name": "stdout"
        }
      ]
    }
  ]
}