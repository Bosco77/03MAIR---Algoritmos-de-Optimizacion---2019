{
  "nbformat": 4,
  "nbformat_minor": 0,
  "metadata": {
    "colab": {
      "name": "Untitled",
      "provenance": [],
      "include_colab_link": true
    },
    "kernelspec": {
      "name": "python3",
      "display_name": "Python 3"
    }
  },
  "cells": [
    {
      "cell_type": "markdown",
      "metadata": {
        "id": "view-in-github",
        "colab_type": "text"
      },
      "source": [
        "<a href=\"https://colab.research.google.com/github/Bosco77/03MAIR---Algoritmos-de-Optimizacion---2019/blob/master/AG1/AG1.ipynb\" target=\"_parent\"><img src=\"https://colab.research.google.com/assets/colab-badge.svg\" alt=\"Open In Colab\"/></a>"
      ]
    },
    {
      "cell_type": "markdown",
      "metadata": {
        "id": "S0tOCxcUl3Jq",
        "colab_type": "text"
      },
      "source": [
        "Actividad Guiada 1 Algoritmos de Optimización.\n",
        "\n",
        "Alejandro Vilalta\n",
        "\n",
        "https://colab.research.google.com/drive/1tBey6lX4m1Bh8amU7pAE2KqAImPoqFkH\n",
        "\n",
        "https://github.com/Bosco77/03MAIR---Algoritmos-de-Optimizacion---2019/tree/master/AG1\n"
      ]
    }
  ]
}