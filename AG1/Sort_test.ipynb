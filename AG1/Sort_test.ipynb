{
  "nbformat": 4,
  "nbformat_minor": 0,
  "metadata": {
    "colab": {
      "name": "Sort_test.ipynb",
      "provenance": [],
      "include_colab_link": true
    },
    "kernelspec": {
      "name": "python3",
      "display_name": "Python 3"
    }
  },
  "cells": [
    {
      "cell_type": "markdown",
      "metadata": {
        "id": "view-in-github",
        "colab_type": "text"
      },
      "source": [
        "<a href=\"https://colab.research.google.com/github/Bosco77/03MAIR---Algoritmos-de-Optimizacion---2019/blob/master/AG1/Sort_test.ipynb\" target=\"_parent\"><img src=\"https://colab.research.google.com/assets/colab-badge.svg\" alt=\"Open In Colab\"/></a>"
      ]
    },
    {
      "cell_type": "code",
      "metadata": {
        "id": "s6gsiZU-Rmk_",
        "colab_type": "code",
        "colab": {}
      },
      "source": [
        "import sorting \n",
        "lista = [1,3,5,7,8,9,0,1000, 23]\n",
        "lista_ordenada = sorting.buble(lista)\n",
        "print(lista_ordenada)\n"
      ],
      "execution_count": 0,
      "outputs": []
    },
    {
      "cell_type": "code",
      "metadata": {
        "id": "mH3geYhbSBBm",
        "colab_type": "code",
        "colab": {
          "base_uri": "https://localhost:8080/",
          "height": 51
        },
        "outputId": "501d9f59-fc57-46fa-97b4-0c37f9bf4b66"
      },
      "source": [
        "!pip install sorting\n",
        "import sorting \n",
        "lista = [1,3,5,7,8,9,0,1000, 23]\n",
        "lista_ordenada = sorting.bubble(lista)\n",
        "print(lista_ordenada)\n"
      ],
      "execution_count": 6,
      "outputs": [
        {
          "output_type": "stream",
          "text": [
            "Requirement already satisfied: sorting in /usr/local/lib/python3.6/dist-packages (1.0.3)\n",
            "[0, 1, 3, 5, 7, 8, 9, 23, 1000]\n"
          ],
          "name": "stdout"
        }
      ]
    }
  ]
}