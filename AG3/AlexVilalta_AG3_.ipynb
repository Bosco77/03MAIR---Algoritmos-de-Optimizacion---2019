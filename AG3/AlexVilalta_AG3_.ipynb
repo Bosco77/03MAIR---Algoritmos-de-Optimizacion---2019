{
  "nbformat": 4,
  "nbformat_minor": 0,
  "metadata": {
    "colab": {
      "name": "AlexVilalta-AG3 .ipynb",
      "provenance": [],
      "collapsed_sections": [],
      "authorship_tag": "ABX9TyPdzKSff6q/sPpxMPFJYeo0",
      "include_colab_link": true
    },
    "kernelspec": {
      "name": "python3",
      "display_name": "Python 3"
    }
  },
  "cells": [
    {
      "cell_type": "markdown",
      "metadata": {
        "id": "view-in-github",
        "colab_type": "text"
      },
      "source": [
        "<a href=\"https://colab.research.google.com/github/Bosco77/03MAIR---Algoritmos-de-Optimizacion---2019/blob/master/AG3/AlexVilalta_AG3_.ipynb\" target=\"_parent\"><img src=\"https://colab.research.google.com/assets/colab-badge.svg\" alt=\"Open In Colab\"/></a>"
      ]
    },
    {
      "cell_type": "markdown",
      "metadata": {
        "id": "CMAJdjx1iLXs",
        "colab_type": "text"
      },
      "source": [
        "Actividad Guiada 3    \n",
        "Nombre: Alex Vilalta   \n",
        "Colab: https://colab.research.google.com/drive/1IpdchRyQALOaz_od210wcsEHIsEfqxnv   \n",
        "Github: "
      ]
    },
    {
      "cell_type": "code",
      "metadata": {
        "id": "0s1WlP7EkGTc",
        "colab_type": "code",
        "outputId": "ce20abb8-f2aa-497d-aefb-ac258d95cd0d",
        "colab": {
          "base_uri": "https://localhost:8080/",
          "height": 34
        }
      },
      "source": [
        "import urllib.request\n",
        "\n",
        "file = \"swiss42.tsp\"\n",
        "\n",
        "urllib.request.urlretrieve(\"http://elib.zib.de/pub/mp-testdata/tsp/tsplib/tsp/swiss42.tsp\", file)"
      ],
      "execution_count": 0,
      "outputs": [
        {
          "output_type": "execute_result",
          "data": {
            "text/plain": [
              "('swiss42.tsp', <http.client.HTTPMessage at 0x7f0f4d403b70>)"
            ]
          },
          "metadata": {
            "tags": []
          },
          "execution_count": 6
        }
      ]
    },
    {
      "cell_type": "code",
      "metadata": {
        "id": "U9bguq0nlyHa",
        "colab_type": "code",
        "outputId": "7de99144-3119-4e8c-b88e-265f86e7ebaf",
        "colab": {
          "base_uri": "https://localhost:8080/",
          "height": 136
        }
      },
      "source": [
        "!pip install tsplib95\n",
        "\n"
      ],
      "execution_count": 0,
      "outputs": [
        {
          "output_type": "stream",
          "text": [
            "Collecting tsplib95\n",
            "  Downloading https://files.pythonhosted.org/packages/dc/43/039c0621085202f19d6c12b06330bf109743083ce4024137b4713da9c40b/tsplib95-0.6.1-py2.py3-none-any.whl\n",
            "Requirement already satisfied: Click>=6.0 in /usr/local/lib/python3.6/dist-packages (from tsplib95) (7.0)\n",
            "Requirement already satisfied: networkx~=2.1 in /usr/local/lib/python3.6/dist-packages (from tsplib95) (2.4)\n",
            "Requirement already satisfied: decorator>=4.3.0 in /usr/local/lib/python3.6/dist-packages (from networkx~=2.1->tsplib95) (4.4.1)\n",
            "Installing collected packages: tsplib95\n",
            "Successfully installed tsplib95-0.6.1\n"
          ],
          "name": "stdout"
        }
      ]
    },
    {
      "cell_type": "code",
      "metadata": {
        "id": "YQk9aZS3mIKr",
        "colab_type": "code",
        "colab": {}
      },
      "source": [
        "import tsplib95\n",
        "import random\n",
        "import math"
      ],
      "execution_count": 0,
      "outputs": []
    },
    {
      "cell_type": "code",
      "metadata": {
        "id": "WxiJKa2hmdur",
        "colab_type": "code",
        "colab": {}
      },
      "source": [
        "problem = tsplib95.load_problem(file)\n",
        "#NODOS \n",
        "Nodos = list(problem.get_nodes())\n",
        "\n",
        "#Aristas\n",
        "Aristas = list(problem.get_edges())"
      ],
      "execution_count": 0,
      "outputs": []
    },
    {
      "cell_type": "code",
      "metadata": {
        "id": "CTP5PPJormpx",
        "colab_type": "code",
        "colab": {}
      },
      "source": [
        "#Se genera una solucion aleatoria con comienzo en en el nodo 0\n",
        "def crear_solucion(Nodos): \n",
        "  solucion = [0]\n",
        "  for i in range(len(Nodos)-1):\n",
        "    solucion = solucion + [random.choice(list(set(Nodos) - set(solucion)))]\n",
        "  return solucion  \n",
        "\n",
        "\n",
        "#Devuelve la distancia entre dos nodos\n",
        "def distancia(a,b, problem):\n",
        "  return problem.wfunc(a,b)\n",
        "\n",
        "\n",
        "#Devuelve la distancia total de una trayectoria\n",
        "def distancia_total(solucion, problem):\n",
        "  distancia_total = 0\n",
        "  for i in range(len(solucion)-1):\n",
        "    distancia_total += distancia(solucion[i] ,solucion[i+1] ,  problem)\n",
        "  return distancia_total + distancia(solucion[len(solucion)-1] ,solucion[0], problem)"
      ],
      "execution_count": 0,
      "outputs": []
    },
    {
      "cell_type": "code",
      "metadata": {
        "id": "azqyDAE_vy6m",
        "colab_type": "code",
        "outputId": "0e9bca92-d2d6-48d7-f472-8078d8d67a78",
        "colab": {
          "base_uri": "https://localhost:8080/",
          "height": 34
        }
      },
      "source": [
        "\n",
        "#Busqueda aleatorio\n",
        "def busqueda_aleatoria(problem, N):\n",
        "  mejor_solucion = crear_solucion(Nodos)\n",
        "  mejor_valor    = distancia_total(mejor_solucion, problem)\n",
        "\n",
        "  for i in range(N):\n",
        "      solucion = crear_solucion(Nodos)\n",
        "      valor    = distancia_total(solucion, problem)\n",
        "      if valor < mejor_valor:\n",
        "        mejor_solucion = solucion\n",
        "        mejor_valor = valor\n",
        "\n",
        "  print(\"La mejor solucion es \",mejor_valor,  mejor_solucion)\n",
        "   \n",
        "busqueda_aleatoria(problem, 20000)"
      ],
      "execution_count": 0,
      "outputs": [
        {
          "output_type": "stream",
          "text": [
            "La mejor solucion es  3663 [0, 31, 17, 5, 2, 1, 3, 10, 39, 15, 23, 41, 28, 19, 12, 37, 16, 6, 11, 29, 4, 35, 36, 14, 30, 24, 40, 21, 22, 9, 20, 34, 38, 13, 7, 25, 18, 27, 26, 8, 32, 33]\n"
          ],
          "name": "stdout"
        }
      ]
    },
    {
      "cell_type": "code",
      "metadata": {
        "id": "AwdB0xQVz3N5",
        "colab_type": "code",
        "outputId": "9dc9e4fb-abd9-434d-c7c8-c7271e4e64cd",
        "colab": {
          "base_uri": "https://localhost:8080/",
          "height": 51
        }
      },
      "source": [
        "def genera_vecina(solucion):\n",
        "  #Generador de soluciones vecinas: 2-opt (intercambiar 2 nodos) Si hay N nodos se generan (N-1)x(N-2)/2 soluciones\n",
        "  #print(solucion)\n",
        "  mejor_solucion = []\n",
        "  mejor_distancia = 10e100\n",
        "  for i in range(1,len(solucion)-1):\n",
        "    for j in range(i+1, len(solucion)):\n",
        "      vecina = solucion[:i] + [solucion[j]] + solucion[i+1:j] + [solucion[i]] + solucion[j+1:] \n",
        "      distancia_vecina = distancia_total(vecina, problem)\n",
        "      if distancia_vecina <= mejor_distancia:\n",
        "        mejor_distancia = distancia_vecina\n",
        "        mejor_solucion = vecina\n",
        "  print(mejor_solucion)\n",
        "  print(mejor_distancia)\n",
        "  return mejor_solucion\n",
        "      \n",
        "solucion = crear_solucion(Nodos)\n",
        "mejor_solucion = genera_vecina(solucion)"
      ],
      "execution_count": 0,
      "outputs": [
        {
          "output_type": "stream",
          "text": [
            "[0, 21, 32, 1, 18, 28, 15, 4, 39, 13, 35, 26, 11, 10, 23, 30, 41, 38, 8, 36, 27, 16, 14, 9, 19, 31, 33, 12, 5, 2, 29, 7, 6, 22, 24, 25, 40, 37, 3, 17, 34, 20]\n",
            "4621\n"
          ],
          "name": "stdout"
        }
      ]
    },
    {
      "cell_type": "code",
      "metadata": {
        "id": "GpTwqjN1o2ak",
        "colab_type": "code",
        "colab": {}
      },
      "source": [
        "def busqueda_local(problem, N):\n",
        "  #problem = datos del problema\n",
        "  #N = numero de iteraciones\n",
        "  \n",
        "  mejor_solucion = []\n",
        "  mejor_distancia = 10e100\n",
        "  \n",
        "  solucion_referencia = crear_solucion(Nodos)\n",
        "  \n",
        "  for i in range(N):\n",
        "    vecina = genera_vecina(solucion_referencia)\n",
        "    distancia_vecina = distancia_total(vecina, problem)\n",
        "    if distancia_vecina <= mejor_distancia:\n",
        "      mejor_solucion = vecina\n",
        "      mejor_distancia = distancia_vecina\n",
        "        \n",
        "    solucion_referencia = vecina\n",
        "\n",
        "  print(\"La mejor solución encontrada es \" , mejor_distancia , mejor_solucion)\n",
        "\n"
      ],
      "execution_count": 0,
      "outputs": []
    },
    {
      "cell_type": "code",
      "metadata": {
        "id": "YhMW3LX1vb3u",
        "colab_type": "code",
        "colab": {}
      },
      "source": [
        "def genera_vecina_aleatorio(solucion):\n",
        "  #Generador de 1 solucion vecina 2-opt (intercambiar 2 nodos)\n",
        "  #Se puede mejorar haciendo que la elección no se uniforme sino entre las que estén más proximas\n",
        "  i = random.choice(range(1, len(solucion)) )\n",
        "  j = random.choice(list(set(range(1, len(solucion))) - {i}))\n",
        "  if j<i:\n",
        "    i,j=j,i\n",
        "  vecina = list(solucion[:i] + [solucion[j]] + solucion[i+1:j] + [solucion[i]] + solucion[j+1:])\n",
        "  return vecina"
      ],
      "execution_count": 0,
      "outputs": []
    },
    {
      "cell_type": "code",
      "metadata": {
        "id": "dWWY90c7O_tU",
        "colab_type": "code",
        "colab": {}
      },
      "source": [
        "#Funcion de probabilidad para determinar si se cambia \n",
        "#    a una solución peor respecto a la de referencia(exponencial)\n",
        "def probabilidad(T,d):\n",
        "  if random.random() <= math.exp(-1*d / T)   :\n",
        "    return True\n",
        "  else:\n",
        "    return False\n",
        "\n",
        "\n",
        "def bajar_temperatura(T):\n",
        "  return T*.9999"
      ],
      "execution_count": 0,
      "outputs": []
    },
    {
      "cell_type": "code",
      "metadata": {
        "id": "3jAJCHy-PQIa",
        "colab_type": "code",
        "colab": {}
      },
      "source": [
        "#####################################################################\n",
        "def recocido_simulado(problem, TEMPERATURA=1000):\n",
        "  #problem = datos del problema\n",
        "\n",
        "  solucion_referencia = crear_solucion(Nodos)\n",
        "  distancia_referencia = distancia_total(solucion_referencia, problem)\n",
        "  \n",
        "  mejor_solucion = []\n",
        "  mejor_distancia = 10e100\n",
        "  while TEMPERATURA > 1:\n",
        "    #Genera una solución vecina(aleatoria)\n",
        "    vecina = genera_vecina_aleatorio(solucion_referencia) \n",
        "    \n",
        "    #Calcula su valor(distancia)\n",
        "    distancia_vecina = distancia_total(vecina, problem)\n",
        "    \n",
        "    #Si es la mejor solución de todas se guarda\n",
        "    if distancia_vecina < mejor_distancia:\n",
        "      mejor_solucion = vecina\n",
        "      mejor_distancia = distancia_vecina\n",
        "      print('\\t****Encontrada mejor solucion:', mejor_distancia , mejor_solucion, '\\n')\n",
        "    \n",
        "    #Si la nueva vecina es mejor se cambia y si es peor se cambia según \n",
        "    # una probabilidad dependiente de T y de |distancia_referencia - distancia_vecina|\n",
        "    p = probabilidad(TEMPERATURA, abs(distancia_referencia - distancia_vecina) )\n",
        "    if distancia_vecina < distancia_referencia or p :\n",
        "      solucion_referencia = vecina\n",
        "      distancia_referencia = distancia_vecina\n",
        "    \n",
        "    TEMPERATURA = bajar_temperatura(TEMPERATURA)\n",
        "\n",
        "  print(\"La mejor solución encontrada es :\" , mejor_distancia, mejor_solucion  )\n",
        "  return mejor_solucion\n",
        "\n",
        "sol = recocido_simulado(problem, TEMPERATURA=100000)"
      ],
      "execution_count": 0,
      "outputs": []
    },
    {
      "cell_type": "code",
      "metadata": {
        "id": "pZszyscQVXOp",
        "colab_type": "code",
        "outputId": "efd36cd3-483d-431e-8924-d336cb256200",
        "colab": {
          "base_uri": "https://localhost:8080/",
          "height": 51
        }
      },
      "source": [
        "def Add_Nodo(problem, H ,T ) :\n",
        "  #Establecer una una funcion de probabilidad para \n",
        "  # añadir un nuevo nodo dependiendo de los nodos mas cercanos y de las feromonas depositadas\n",
        "  Nodos = list(problem.get_nodes())\n",
        "  return random.choice(   list(set(range(1,len(Nodos))) - set(H) )  )\n",
        "\n",
        "\n",
        "def Incrementa_Feromona(problem, T, H):\n",
        "  #Incrementar segun la calidad de la solución. Añadir una cantidad inversamente proporcional a la distancia total \n",
        "  for i in range(len(H)-1):\n",
        "    T[H[i]][H[i+1]] += 1000/distancia_total(H, problem)\n",
        "  return T\n",
        "\n",
        "def Evaporar_Feromonas(T):\n",
        "  #Podemos elegir diferentes funciones de evaporación dependiendo de la cantidad actual y de la suma total de feromonas depositadas,...\n",
        "  #Evapora 0.3 el valor de la feromona, sin que baje de 1\n",
        "  T = [[ max(T[i][j] - 0.3 , 1) for i in range(len(Nodos)) ] for j in range(len(Nodos))]\n",
        "  return T\n",
        "\n",
        "\n",
        "def hormigas(problem, N) :\n",
        "  #problem = datos del problema\n",
        "  #N = Número de agentes(hormigas)\n",
        "    \n",
        "  #Nodos\n",
        "  Nodos = list(problem.get_nodes())\n",
        "    #Aristas\n",
        "  Aristas = list(problem.get_edges()) \n",
        "  \n",
        "  #Inicializa las aristas con una cantidad inicial de feromonas:1\n",
        "  T = [[ 1 for _ in range(len(Nodos)) ] for _ in range(len(Nodos))]\n",
        "  \n",
        "  #Se generan los agentes(hormigas) que serán estructuras de caminos desde 0\n",
        "  Hormiga = [[0] for _ in range(N)]\n",
        "\n",
        "  #Recorre cada agente construyendo la solución\n",
        "  for h in range(N) :\n",
        "    #print(\"\\nAgente:\", h)\n",
        "    #Para cada agente se construye un camino\n",
        "    for i in range(len(Nodos)-1) :\n",
        "      \n",
        "      #Elige el siguiente nodo\n",
        "      Nuevo_Nodo = Add_Nodo(problem, Hormiga[h] ,T )\n",
        "      \n",
        "      Hormiga[h].append(Nuevo_Nodo)     \n",
        "    \n",
        "    #Incrementa feromonas en esa arista \n",
        "    T = Incrementa_Feromona(problem, T, Hormiga[h] )\n",
        "    #print(\"Feromonas(1)\", T)\n",
        "      \n",
        "    #Evapora Feromonas  \n",
        "    T = Evaporar_Feromonas(T)\n",
        "    #print(\"Feromonas(2)\", T)\n",
        "\n",
        "    #Seleccionamos el mejor agente\n",
        "  mejor_solucion = []\n",
        "  mejor_distancia = 10e100\n",
        "  for h in range(N) :\n",
        "    distancia_actual = distancia_total(Hormiga[h], problem)\n",
        "    if distancia_actual < mejor_distancia:\n",
        "      mejor_solucion = Hormiga[h]\n",
        "      mejor_distancia =distancia_actual\n",
        "  \n",
        "  \n",
        "  print(mejor_solucion)\n",
        "  print(mejor_distancia)\n",
        "  \n",
        "hormigas(problem, N=1000)"
      ],
      "execution_count": 0,
      "outputs": [
        {
          "output_type": "stream",
          "text": [
            "[0, 33, 36, 17, 4, 12, 19, 27, 7, 31, 30, 8, 5, 13, 40, 10, 23, 41, 9, 29, 18, 26, 28, 1, 3, 2, 14, 35, 32, 20, 39, 38, 16, 15, 37, 25, 11, 6, 22, 34, 24, 21]\n",
            "3601\n"
          ],
          "name": "stdout"
        }
      ]
    }
  ]
}