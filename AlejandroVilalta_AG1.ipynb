{
  "nbformat": 4,
  "nbformat_minor": 0,
  "metadata": {
    "colab": {
      "name": "AlejandroVilalta-AG1",
      "provenance": [],
      "collapsed_sections": [],
      "include_colab_link": true
    },
    "kernelspec": {
      "name": "python3",
      "display_name": "Python 3"
    }
  },
  "cells": [
    {
      "cell_type": "markdown",
      "metadata": {
        "id": "view-in-github",
        "colab_type": "text"
      },
      "source": [
        "<a href=\"https://colab.research.google.com/github/Bosco77/03MAIR---Algoritmos-de-Optimizacion---2019/blob/master/AlejandroVilalta_AG1.ipynb\" target=\"_parent\"><img src=\"https://colab.research.google.com/assets/colab-badge.svg\" alt=\"Open In Colab\"/></a>"
      ]
    },
    {
      "cell_type": "markdown",
      "metadata": {
        "id": "S0tOCxcUl3Jq",
        "colab_type": "text"
      },
      "source": [
        "Actividad Guiada 1 Algoritmos de Optimización.\n",
        "\n",
        "Alejandro Vilalta\n",
        "\n",
        "https://colab.research.google.com/drive/1tBey6lX4m1Bh8amU7pAE2KqAImPoqFkH\n",
        "\n",
        "https://github.com/Bosco77/03MAIR---Algoritmos-de-Optimizacion---2019/tree/master/AG1\n"
      ]
    },
    {
      "cell_type": "markdown",
      "metadata": {
        "id": "Cb8md61J6c_5",
        "colab_type": "text"
      },
      "source": [
        "Problema de las torres de Hanoy."
      ]
    },
    {
      "cell_type": "code",
      "metadata": {
        "id": "oZzhZCZLoDuc",
        "colab_type": "code",
        "outputId": "e2e61f5f-b6c5-4b82-a9a3-af7322bbe68a",
        "colab": {
          "base_uri": "https://localhost:8080/",
          "height": 272
        }
      },
      "source": [
        "def torres(N, desde, hasta):\n",
        "  if N == 1:\n",
        "    print(\"LLeva la ficha desde\", str(desde), \"hasta\", str(hasta))\n",
        "  else:\n",
        "    torres(N-1, desde, 6-desde-hasta )\n",
        "    print(\"LLeva la ficha desde\", str(desde), \"hasta\", str(hasta))\n",
        "    torres(N-1, 6-desde-hasta, hasta )\n",
        "\n",
        "\n",
        "torres(4,1,3)"
      ],
      "execution_count": 0,
      "outputs": [
        {
          "output_type": "stream",
          "text": [
            "LLeva la ficha desde 1 hasta 2\n",
            "LLeva la ficha desde 1 hasta 3\n",
            "LLeva la ficha desde 2 hasta 3\n",
            "LLeva la ficha desde 1 hasta 2\n",
            "LLeva la ficha desde 3 hasta 1\n",
            "LLeva la ficha desde 3 hasta 2\n",
            "LLeva la ficha desde 1 hasta 2\n",
            "LLeva la ficha desde 1 hasta 3\n",
            "LLeva la ficha desde 2 hasta 3\n",
            "LLeva la ficha desde 2 hasta 1\n",
            "LLeva la ficha desde 3 hasta 1\n",
            "LLeva la ficha desde 2 hasta 3\n",
            "LLeva la ficha desde 1 hasta 2\n",
            "LLeva la ficha desde 1 hasta 3\n",
            "LLeva la ficha desde 2 hasta 3\n"
          ],
          "name": "stdout"
        }
      ]
    },
    {
      "cell_type": "markdown",
      "metadata": {
        "id": "K7mF5Jgg81Ea",
        "colab_type": "text"
      },
      "source": [
        "Problema de las 4 reinas."
      ]
    },
    {
      "cell_type": "code",
      "metadata": {
        "id": "8qC_JexN86Nl",
        "colab_type": "code",
        "outputId": "0c8400d3-51cb-43d1-b12a-ed32695e7806",
        "colab": {
          "base_uri": "https://localhost:8080/",
          "height": 153
        }
      },
      "source": [
        "def es_prometedora(solucion,etapa):\n",
        "  for i in range(etapa+1):  \n",
        "    if solucion.count(solucion[i])>1: return False\n",
        "    \n",
        "    #verificar diagonales\n",
        "    for j in range(i+1,etapa+1):\n",
        "      if abs(i-j)==abs(solucion[i]-solucion[j]): return False\n",
        "  return True\n",
        "\n",
        "\n",
        "def reinas(n,solucion,etapa):\n",
        "  for i in range(1,n+1):\n",
        "    solucion[etapa]=i\n",
        "    if es_prometedora(solucion,etapa):\n",
        "      if etapa == n-1:\n",
        "        print(\"\\n\\nLa solución es:\")\n",
        "        print(solucion)\n",
        "      else:\n",
        "        reinas(n,solucion,etapa+1)\n",
        "    else:\n",
        "      None\n",
        "  solucion[etapa]=0\n",
        "\n",
        "\n",
        "n=4 \n",
        "solucion=[0 for i in range(n)]\n",
        "etapa=0\n",
        "reinas(n,solucion,etapa)"
      ],
      "execution_count": 0,
      "outputs": [
        {
          "output_type": "stream",
          "text": [
            "\n",
            "\n",
            "La solución es:\n",
            "[2, 4, 1, 3]\n",
            "\n",
            "\n",
            "La solución es:\n",
            "[3, 1, 4, 2]\n"
          ],
          "name": "stdout"
        }
      ]
    },
    {
      "cell_type": "markdown",
      "metadata": {
        "id": "uE5Os5Vx35T6",
        "colab_type": "text"
      },
      "source": [
        "Encontrar los dos puntos mas cercanos."
      ]
    },
    {
      "cell_type": "code",
      "metadata": {
        "id": "tWFFmiy14U3F",
        "colab_type": "code",
        "outputId": "54deec4b-1486-4bf0-f2d7-21916d8a391d",
        "colab": {
          "base_uri": "https://localhost:8080/",
          "height": 34
        }
      },
      "source": [
        "import random\n",
        "import math\n",
        "import time\n",
        "\n",
        "# Decorador que mide en ms el tiempo que tarda un método\n",
        "def timer_decorator(method):\n",
        "    def measure_time(*args, **kw):\n",
        "        time_begin = time.time()\n",
        "        result = method(*args, **kw)\n",
        "        time_end = time.time()\n",
        "        ms_elapsed = (time_end - time_begin) * 1000\n",
        "\n",
        "        if 'log_time' in kw:\n",
        "            name = kw.get('log_name', method.__name__.upper())\n",
        "            kw['log_time'][name] = ms_elapsed\n",
        "        else:\n",
        "            print(method.__name__, \"lasted\", ms_elapsed, \"ms\")\n",
        "\n",
        "        return result\n",
        "    return measure_time\n",
        "\n",
        "def calcular_distancia_1D(A,B):\n",
        "  return abs(A-B)\n",
        "\n",
        "def calcular_distancia_no_1D(A,B):\n",
        "  return math.sqrt(sum([(A[i]-B[i])**2 for i in range(len(A))]))\n",
        "\n",
        "\n",
        "def calcular_distancia(A, B):\n",
        "  result = None\n",
        "  tipo = type(A)\n",
        "  if tipo is int or tipo is float:\n",
        "    result = calcular_distancia_1D(A, B)\n",
        "  else:\n",
        "    result = calcular_distancia_no_1D(A, B)\n",
        "  return result\n",
        "\n",
        "#Fuerza Bruta. \n",
        "def fuerza_bruta(lista):\n",
        "  best = 100000000\n",
        "  A,B = None,None\n",
        "  for i in range(len(lista)):\n",
        "    for j in range(i+1, len(lista)):\n",
        "      distancia = calcular_distancia(lista[i],lista[j])\n",
        "      if distancia < best :\n",
        "        best = distancia\n",
        "        A, B = lista[i],lista[j]\n",
        "  #print(\"Menor distancia\", best)\n",
        "  return dict([(best,[A, B])])\n",
        "\n",
        "\n",
        "LISTA_1D = list(set([ random.randrange(1,100000) for x in range(1000)]))\n",
        "print(fuerza_bruta(LISTA_1D, ))"
      ],
      "execution_count": 0,
      "outputs": [
        {
          "output_type": "stream",
          "text": [
            "{1: [53444, 53443]}\n"
          ],
          "name": "stdout"
        }
      ]
    },
    {
      "cell_type": "markdown",
      "metadata": {
        "id": "XHgBrtQZuG3K",
        "colab_type": "text"
      },
      "source": [
        "La complejidad usando fuerza bruta es cuadratica."
      ]
    },
    {
      "cell_type": "code",
      "metadata": {
        "id": "KJ6TBpGOuNMR",
        "colab_type": "code",
        "outputId": "378a13c8-3dde-4e1b-8fc5-c2d052f2fb4d",
        "colab": {
          "base_uri": "https://localhost:8080/",
          "height": 153
        }
      },
      "source": [
        "#Divide y venceras.\n",
        "def divide_y_venceras(lista):\n",
        "  if len(lista) < 5:\n",
        "    return fuerza_bruta(lista)\n",
        "\n",
        "  #Ordenamos la lista \n",
        "  lista_ordenada = sorted(lista)\n",
        "  #Dividimos la lista\n",
        "  posicion_pivote = len(lista)//2\n",
        "  lista_ordenada_izq = lista_ordenada[:posicion_pivote]\n",
        "  lista_ordenada_der = lista_ordenada[posicion_pivote:]\n",
        "\n",
        "  izq = divide_y_venceras(lista_ordenada_izq)\n",
        "  der = divide_y_venceras(lista_ordenada_der)\n",
        "  izq.update(der)\n",
        "  distancia = round(min(izq.keys()))\n",
        "  valor_pivote = lista_ordenada[posicion_pivote]\n",
        "\n",
        "  filtro = None\n",
        "  if type(lista_ordenada[0]) == tuple:\n",
        "    # Nos movemos en el eje x conforme a lo explicado en Introducción al analisis y diseño de algoritmos, figura 4-4, pag.125.\n",
        "    filtro = lambda item : item[0] > (valor_pivote[0] - distancia) and item[0] < (valor_pivote[0] + distancia)\n",
        "  else:\n",
        "    filtro = lambda item : item > (valor_pivote - distancia) and item < (valor_pivote + distancia)\n",
        "\n",
        "  lista_ordenada_central = list(filter(filtro, lista_ordenada))\n",
        "  central = fuerza_bruta(lista_ordenada_central)\n",
        "  izq.update(central)\n",
        "  d = min(izq.keys())\n",
        "\n",
        "  return dict([(d,izq.get(d))])\n",
        "\n",
        "\n",
        "\n",
        "\n",
        "\n",
        "@timer_decorator\n",
        "def divide_y_venceras_timeit(lista):\n",
        "  return divide_y_venceras(lista)\n",
        "\n",
        "lista_test = [1,3,3.1,5,7,7.5,9,11,12,12.05]\n",
        "print(divide_y_venceras_timeit(lista_test))\n",
        "print(divide_y_venceras_timeit(LISTA_1D))  \n",
        "\n",
        "LISTA_2D = [ (random.randrange(1,100000),random.randrange(1,100000)) for x in range(1000)]\n",
        "\n",
        "print(divide_y_venceras_timeit(LISTA_2D))  \n",
        "\n",
        "LISTA_3D = [ (random.randrange(1,100000),random.randrange(1,100000),random.randrange(1,100000)) for x in range(1000)]\n",
        "print(divide_y_venceras_timeit(LISTA_3D))  \n"
      ],
      "execution_count": 0,
      "outputs": [
        {
          "output_type": "stream",
          "text": [
            "divide_y_venceras_timeit lasted 0.06365776062011719 ms\n",
            "{0.05000000000000071: [12, 12.05]}\n",
            "divide_y_venceras_timeit lasted 4.586219787597656 ms\n",
            "{1: [89835, 89836]}\n",
            "divide_y_venceras_timeit lasted 25.182723999023438 ms\n",
            "{98.08159868191383: [(67801, 49888), (67863, 49812)]}\n",
            "divide_y_venceras_timeit lasted 98.32978248596191 ms\n",
            "{470.3806968828547: [(68513, 1276, 7330), (68781, 1123, 7685)]}\n"
          ],
          "name": "stdout"
        }
      ]
    },
    {
      "cell_type": "markdown",
      "metadata": {
        "id": "u1CxJQRTDFmD",
        "colab_type": "text"
      },
      "source": [
        "La complejidad usando divide y venceras es O(n * log n)"
      ]
    }
  ]
}