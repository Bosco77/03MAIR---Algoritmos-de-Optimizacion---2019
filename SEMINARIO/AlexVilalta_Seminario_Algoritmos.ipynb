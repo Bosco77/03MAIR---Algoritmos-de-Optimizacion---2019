{
  "nbformat": 4,
  "nbformat_minor": 0,
  "metadata": {
    "colab": {
      "name": "AlexVilalta-Seminario - Algoritmos.ipynb",
      "provenance": [],
      "collapsed_sections": [],
      "include_colab_link": true
    },
    "kernelspec": {
      "name": "python3",
      "display_name": "Python 3"
    }
  },
  "cells": [
    {
      "cell_type": "markdown",
      "metadata": {
        "id": "view-in-github",
        "colab_type": "text"
      },
      "source": [
        "<a href=\"https://colab.research.google.com/github/Bosco77/03MAIR---Algoritmos-de-Optimizacion---2019/blob/master/SEMINARIO/AlexVilalta_Seminario_Algoritmos.ipynb\" target=\"_parent\"><img src=\"https://colab.research.google.com/assets/colab-badge.svg\" alt=\"Open In Colab\"/></a>"
      ]
    },
    {
      "cell_type": "markdown",
      "metadata": {
        "id": "hVbXYX-RfPWh",
        "colab_type": "text"
      },
      "source": [
        "# Algoritmos de optimización - Seminario<br>\n",
        "Nombre y Apellidos: Alejandro Vilalta Garcia  <br>\n",
        "Url: https://github.com/.../03MAIR---Algoritmos-de-Optimizacion---2019/tree/master/SEMINARIO<br>\n",
        "Problema:\n",
        "\n",
        ">2. Organizar los horarios de partidos de La Liga<br>\n",
        "\n",
        "\n",
        "Descripción del problema:\n",
        "\n",
        "- Desde la La Liga de fútbol profesional se pretende organizar los horarios de los partidos de liga de cada jornada. Se conocen algunos datos que nos deben llevar a diseñar un algoritmo que realice la asignación de los partidos a los horarios de forma que maximice la audiencia.\n",
        "\n",
        "- Los horarios disponibles se conocen a priori y son los siguientes:\n",
        "\n",
        "<table>\n",
        "  <tr>\n",
        "    <th>Día</th>\n",
        "    <th>Horario Partidos</th>\n",
        "  </tr>\n",
        "  <tr>\n",
        "    <td>Viernes</td>\n",
        "    <td>20</td>\n",
        "  </tr>\n",
        "  <tr>\n",
        "    <td>Sábado</td>\n",
        "    <td>12,16,18,20</td>\n",
        "  </tr>\n",
        "\n",
        "  <tr>\n",
        "    <td>Domingo</td>\n",
        "    <td>12,16,18,20</td>\n",
        "  </tr>\n",
        "\n",
        "  <tr>\n",
        "    <td>Lunes</td>\n",
        "    <td>20</td>\n",
        "  </tr>\n",
        "</table>\n",
        "\n",
        "- En primer lugar se clasifican los equipos en tres categorías según el numero de\n",
        "seguidores( que tiene relación directa con la audiencia). Hay 4 equipos en la\n",
        "categoría A, 10 equipos de categoría B y 6 equipos de categoría C.\n",
        "\n",
        "- Se conoce estadísticamente la audiencia que genera cada partido según los equipos que se enfrentan y en horario de sábado a las 20h (el mejor en todos los casos).\n",
        "\n",
        "<table>\n",
        "  <tr>\n",
        "    <th></th>\n",
        "    <th>Categoría A</th>\n",
        "    <th>Categoría B</th>\n",
        "    <th>Categoría C</th>\n",
        "  </tr>\n",
        "  <tr>\n",
        "    <th>Categoría A</th>\n",
        "    <td>2 Millones.</td>\n",
        "    <td>1.3 Millones.</td>\n",
        "    <td>1 Millones.</td>\n",
        "  </tr>\n",
        "  <tr>\n",
        "    <th>Categoría B</th>\n",
        "    <td>x</td>\n",
        "    <td>0.9 Millones.</td>\n",
        "    <td>0.75 Millones.</td>\n",
        "  </tr>\n",
        "\n",
        "  <tr>\n",
        "    <th>Categoría C</th>\n",
        "    <td>x</td>\n",
        "    <td>x</td>\n",
        "    <td>0.47</td>\n",
        "  </tr>\n",
        "</table>\n",
        "\n",
        "\n",
        "- Si el horario del partido no se realiza a las 20 horas del sábado se sabe que se reduce según los coeficientes de la siguiente tabla.\n",
        "- Debemos asignar obligatoriamente siempre un partido el viernes y un partido el lunes.\n",
        "\n",
        "<table>\n",
        "  <tr>\n",
        "    <th></th>\n",
        "    <th>Viernes</th>\n",
        "    <th>Sábado</th>\n",
        "    <th>Domingo</th>\n",
        "    <th>Lunes</th>\n",
        "  </tr>\n",
        "  <tr>\n",
        "    <th>12h</th>\n",
        "    <td>-</td>\n",
        "    <td>0.55</td>\n",
        "    <td>0.45</td>\n",
        "    <td>-</td>\n",
        "  </tr>\n",
        "  <tr>\n",
        "    <th>16h</th>\n",
        "    <td>-</td>\n",
        "    <td>0.7</td>\n",
        "    <td>0.75 </td>\n",
        "    <td>-</td>\n",
        "\n",
        "  </tr>\n",
        "  <tr>\n",
        "    <th>18h</th>\n",
        "    <td>-</td>\n",
        "    <td>0.8</td>\n",
        "    <td>0.5</td>\n",
        "    <td>-</td>\n",
        "  </tr>\n",
        "  <tr>\n",
        "    <th>20h</th>\n",
        "    <td>0.4</td>\n",
        "    <td>1</td>\n",
        "    <td>1</td>\n",
        "    <td>0.4</td>    \n",
        "  </tr>\n",
        "\n",
        "</table>\n",
        "\n",
        "\n",
        "\n",
        "- Es posible la coincidencia de horarios pero en este caso la audiencia de cada partido se verá afectada y se estima que se reduce en porcentaje según la\n",
        "siguiente tabla dependiendo del número de coincidencias: \n",
        "\n",
        "\n",
        "<table>\n",
        "  <tr>\n",
        "    <th>Coincidencias</th>\n",
        "    <th>-%</th>\n",
        "  </tr>\n",
        "  <tr>\n",
        "    <td>0</td>\n",
        "    <td>0%</td>\n",
        "  </tr>\n",
        "  <tr>\n",
        "    <td>1</td>\n",
        "    <td>25%</td>\n",
        "  </tr>\n",
        "\n",
        "  <tr>\n",
        "    <td>2</td>\n",
        "    <td>45%</td>\n",
        "  </tr> \n",
        "  <tr>\n",
        "    <td>2</td>\n",
        "    <td>45%</td>\n",
        "  </tr>  \n",
        "  <tr>\n",
        "    <td>3</td>\n",
        "    <td>60%</td>\n",
        "  </tr>  \n",
        "  <tr>\n",
        "    <td>4</td>\n",
        "    <td>70%</td>\n",
        "  </tr>  \n",
        "  <tr>\n",
        "    <td>5</td>\n",
        "    <td>75%</td>\n",
        "  </tr>  \n",
        "  <tr>\n",
        "    <td>6</td>\n",
        "    <td>78%</td>\n",
        "  </tr>  \n",
        "  <tr>\n",
        "    <td>7</td>\n",
        "    <td>80%</td>\n",
        "  </tr>  \n",
        "  <tr>\n",
        "    <td>8</td>\n",
        "    <td>80%</td>\n",
        "  </tr>  \n",
        "</table>\n",
        "\n",
        "(*) La respuesta es obligatoria\n",
        "\n",
        "\n",
        "\n",
        "\n",
        "\n",
        "                                        "
      ]
    },
    {
      "cell_type": "code",
      "metadata": {
        "id": "AiskKkzZfy4e",
        "colab_type": "code",
        "colab": {}
      },
      "source": [
        ""
      ],
      "execution_count": 0,
      "outputs": []
    },
    {
      "cell_type": "markdown",
      "metadata": {
        "id": "3_-exlrTgLd-",
        "colab_type": "text"
      },
      "source": [
        "(*)¿Cuantas posibilidades hay sin tener en cuenta las restricciones?<br>\n",
        "\n",
        "\n",
        "\n",
        "¿Cuantas posibilidades hay teniendo en cuenta todas las restricciones.\n",
        "\n",
        "\n"
      ]
    },
    {
      "cell_type": "markdown",
      "metadata": {
        "id": "WfCUqJyKhPcw",
        "colab_type": "text"
      },
      "source": [
        "Respuesta\n",
        "\n",
        "Partiendo de la base de que las simultaneidades en los horarios de partidos estan penalizadas optamos por no permitir estas simultaneidades. De este modo tendremos <b>10!</b> soluciones posibles es decir <b>3628800</b>.    \n",
        "Las unicas restricciones que tenemos es que tanto viernes como lunes debemos asignar obligatoriamente un partido. Esto ya está contemplado en el caso anterior. \n",
        "\n",
        "\n"
      ]
    },
    {
      "cell_type": "code",
      "metadata": {
        "id": "iq6Fe32MgpDX",
        "colab_type": "code",
        "colab": {}
      },
      "source": [
        ""
      ],
      "execution_count": 0,
      "outputs": []
    },
    {
      "cell_type": "markdown",
      "metadata": {
        "id": "dzynfVJahHoY",
        "colab_type": "text"
      },
      "source": [
        "Modelo para el espacio de soluciones<br>\n",
        "(*) ¿Cual es la estructura de datos que mejor se adapta al problema? Argumentalo.(Es posible que hayas elegido una al principio y veas la necesidad de cambiar, argumentalo)\n"
      ]
    },
    {
      "cell_type": "markdown",
      "metadata": {
        "id": "xFIJrOwKi2Ti",
        "colab_type": "text"
      },
      "source": [
        "Respuesta     \n",
        "Hemos usado un DataFrame para los datos que corresponden a la jornada. Este dataFrame contiene la descripcion del partido (es decir los dos equipos que juegan) y la categoría de cada equipo. Esta es la estructura que mejor se adapta al problema ya que se trata de datos tabulares y requerimos que sean facilmente accesibles.\n",
        "\n",
        "Usamos otro DataFrame para contener los datos de los expectadores y la ponderación de los partidos en función de su horario dada su flexibilidad.\n",
        "\n",
        "\n",
        "\n"
      ]
    },
    {
      "cell_type": "code",
      "metadata": {
        "id": "38c-7-ejhJmA",
        "colab_type": "code",
        "colab": {}
      },
      "source": [
        "import pandas as pd\n",
        "from itertools import permutations\n",
        "\n",
        "\n",
        "\n",
        "datos_jornada = { \"index\":[0,1,2,3,4,5,6,7,8,9],\n",
        "    \"DESCRIPCION\":[\"CELTA-REAL_MADRID\", \"VALENCIA-R.SOCIEDAD\", \"MALLORCA-EIBAR\",\"ATHLETIC-BARCELONA\",\"LEGANES-OSOSUNA\",\"VILLAREAL-GRANADA\",\"AVILES-LEVANTE\",\"ESPANYOL-SEVILLA\", \"BETIS-VALLADOLID\",\"ATHLETIC-GETAFE\" ],\n",
        "               \"CATEGORIA_EQUIPO_1\":[\"A\",\"A\",\"B\",\"C\",\"C\",\"C\",\"B\",\"A\",\"C\",\"C\"],\n",
        "               \"CATEGORIA_EQUIPO_2\":[\"A\",\"B\",\"B\",\"A\",\"B\",\"C\",\"B\",\"B\",\"B\",\"B\"]\n",
        "               }\n",
        "jornada = pd.DataFrame(datos_jornada)\n",
        "\n",
        "\n",
        "\n",
        " \n",
        "\n",
        "espectadores = pd.DataFrame({\"A\":[2,1.3,1],\"B\":[1.3,0.9,0.47],\"C\":[1,0.75,0.47]}, index=[\"A\",\"B\",\"C\"])\n",
        "\n",
        "\n",
        "reduccion_horario = pd.DataFrame({\"reduccion\": [  0.4,  0.55,  0.7, 0.8,  1,  0.45,  0.75,  0.5,  1,  0.4   ]}, index=[0,1,2,3,4,5,6,7,8,9])\n",
        "\n"
      ],
      "execution_count": 0,
      "outputs": []
    },
    {
      "cell_type": "markdown",
      "metadata": {
        "id": "7Z9U2W7bi-XS",
        "colab_type": "text"
      },
      "source": [
        "Según el modelo para el espacio de soluciones<br>\n",
        "(*)¿Cual es la función objetivo?\n",
        "\n",
        "(*)¿Es un problema de maximización o minimización?"
      ]
    },
    {
      "cell_type": "markdown",
      "metadata": {
        "id": "hBalWLM7j1_d",
        "colab_type": "text"
      },
      "source": [
        "Respuesta    \n",
        "La función objetivo consiste en sumar los espectadores de todos los partidos una vez ponderados en función de su posicion en el horario semanal y si hay simultaneidades.\n",
        "\n",
        "Se trata de un problema de maximización."
      ]
    },
    {
      "cell_type": "code",
      "metadata": {
        "id": "pDA-rg3Gj5Lz",
        "colab_type": "code",
        "colab": {}
      },
      "source": [
        ""
      ],
      "execution_count": 0,
      "outputs": []
    },
    {
      "cell_type": "markdown",
      "metadata": {
        "id": "rlnTYgY1j6I2",
        "colab_type": "text"
      },
      "source": [
        "Diseña un algoritmo para resolver el problema por fuerza bruta"
      ]
    },
    {
      "cell_type": "markdown",
      "metadata": {
        "id": "70rDgxYXkC8r",
        "colab_type": "text"
      },
      "source": [
        "Respuesta"
      ]
    },
    {
      "cell_type": "code",
      "metadata": {
        "id": "CJb5sQ0qkENy",
        "colab_type": "code",
        "colab": {}
      },
      "source": [
        "def get_expectadores_x_jornada(jornada, espectadores, solucion_partidos):\n",
        "  result = 0\n",
        "  for i in range(len(solucion_partidos)): \n",
        "    indice_partido_solucion = solucion_partidos[i]\n",
        "    partido = jornada.iloc[indice_partido_solucion]\n",
        "    categoria_equipo_1_partido = partido[2];\n",
        "    categoria_equipo_2_partido = partido[3];\n",
        "    result += espectadores.loc[categoria_equipo_1_partido][categoria_equipo_2_partido] * ponderacion_horarios[i]\n",
        "  return result\n",
        "\n",
        "\n",
        "\n",
        "\n",
        "def organizar_partidos_por_fuerza_bruta(jornada, espectadores):\n",
        "    mejor_resultado_expectadores = 0\n",
        "    mejor_lista_partidos = []\n",
        "    lista_indices_partidos = list(jornada['index'])\n",
        "    \n",
        "    lista_permutaciones = list(permutations(lista_indices_partidos))\n",
        "   \n",
        "    for i in range(len(lista_permutaciones)):\n",
        "        candidata = get_expectadores_x_jornada(jornada,espectadores,lista_permutaciones[i])\n",
        "        if candidata >= mejor_resultado_expectadores:\n",
        "            mejor_resultado_expectadores = candidata\n",
        "            mejor_lista_partidos = lista_permutaciones[i]\n",
        "            \n",
        "    return [mejor_resultado_expectadores, mejor_lista_partidos]"
      ],
      "execution_count": 0,
      "outputs": []
    },
    {
      "cell_type": "markdown",
      "metadata": {
        "id": "tgrnsC2nkFa8",
        "colab_type": "text"
      },
      "source": [
        "Calcula la complejidad del algoritmo por fuerza bruta"
      ]
    },
    {
      "cell_type": "markdown",
      "metadata": {
        "id": "9eUd3xwckP68",
        "colab_type": "text"
      },
      "source": [
        "Respuesta    \n",
        "\n",
        "La complejidad del algoritmo por fuerza bruta es <b>factorial</b> ya que tenemos que recorrer todos los casos. Es por eso que para valores incluso relativamente pequeños  de la variable <b>jornada</b> este algoritmo no es apropiado."
      ]
    },
    {
      "cell_type": "code",
      "metadata": {
        "id": "rvZWwL-ckRST",
        "colab_type": "code",
        "colab": {}
      },
      "source": [
        ""
      ],
      "execution_count": 0,
      "outputs": []
    },
    {
      "cell_type": "markdown",
      "metadata": {
        "id": "txbrmLmskReM",
        "colab_type": "text"
      },
      "source": [
        "(*)Diseña un algoritmo que mejore la complejidad del algortimo por fuerza bruta. Argumenta porque crees que mejora el algoritmo por fuerza bruta"
      ]
    },
    {
      "cell_type": "markdown",
      "metadata": {
        "id": "hLrVwt5QkZPD",
        "colab_type": "text"
      },
      "source": [
        "Respuesta\n",
        "\n",
        "Partiendo de la base de que conforme a la penalizacion por simultaneidad esta no es adecuada para maximizar la audiencia tenemos la opción de usar la técnica de <b>algoritmos voraces</b>; es decir, dividir el problema en diferentes etapas para poder ir seleccionando en cada una de ellas la mas adecuada (entendiendo por mas adecuada aquella que maximice la audiencia para esa fase en concreto), sin preocuparnos de las etapas futuras ni pasadas.    \n",
        "Para implementar la técnica de algoritmos voraces lo que hemos hecho es ordenar los dataframes:\n",
        "- <b>Reduccion de horarios</b>: contiene los coeficientes de reducción de cada partido en función del calendario. Se ordena de mayor a menor. El dataframe mantiene el calendario implicitamente en el índice.\n",
        "- <b>Jornada</b>: contiene las jornadas de los partidos asi como las categorias de los dos equipos que juegan cada partido. A este dataframe le añadiremos una columna calculada a partir de la información que contiene el dataframe de espectadores (contiene los espectadores que tendra un partido en funcion de la catagoria de los dos contendientes). Esta columna calculada (<b>'PESO_PARTIDO'</b>) nos informa del número de espectadores de cada partido de la jornada.     \n",
        "\n",
        "Una vez ordenamos por <b>PESO_PARTIDO</b> solo tenemos que ir recogiendo en la lista solucion aquellas opciones que mas espectadores nos dan; es decir, recogemos la primera posición no usada del dataframe <b>jornada</b> ya que está contendrá el partido que mas espectadores ofrece y lo guardamos en la posición del calendario (implicita por posición en la lista <b>solucion</b>) que maximiza los espectadores en función de <b>reducicon horario</b>. Para esto último, ya que se trata de una lista ordenada, hacemos como con <b>jornada</b> recogemos la primera posición no usada anteriormente.\n",
        "\n",
        "Dado que como ya hemos visto el algoritmo de fuerza bruta es inviable incluso para casos relativamente pequeños, el algoritmo diseñado mediante técnicas voraces es indudablemente superior ya que estariamos comparando una <b>complejidad factorial</b> contra una <b>complejidad de O(n log n)</b>.\n"
      ]
    },
    {
      "cell_type": "code",
      "metadata": {
        "id": "m1eyM21Vkabg",
        "colab_type": "code",
        "colab": {
          "base_uri": "https://localhost:8080/",
          "height": 34
        },
        "outputId": "49cceca7-51c8-43db-f6cc-f47adbf5bf43"
      },
      "source": [
        "def organizar_partido_voraz(jornada, espectadores):\n",
        "    reduccion_horario.sort_values(by=['reduccion'],inplace=True, ascending=False)\n",
        "    peso_partido=[]\n",
        "    for indice_fila, fila in jornada.iterrows():\n",
        "        peso_partido.append(espectadores.loc[fila.CATEGORIA_EQUIPO_1][fila.CATEGORIA_EQUIPO_2])\n",
        "        \n",
        "    jornada['PESO_PARTIDO']=peso_partido    \n",
        "    \n",
        "    jornada.sort_values(by=['PESO_PARTIDO'],inplace=True, ascending=False)\n",
        "    solucion  = [0 for i in range (len(jornada))] \n",
        "    \n",
        "    for i in range(len(jornada)):\n",
        "        solucion[reduccion_horario.iloc[i].name] = jornada.iloc[i,0]\n",
        "    \n",
        "    return [get_expectadores_x_jornada(jornada, espectadores, solucion), solucion]\n",
        "    \n",
        "  \n",
        "print(organizar_partido_voraz(jornada, espectadores))"
      ],
      "execution_count": 5,
      "outputs": [
        {
          "output_type": "stream",
          "text": [
            "[6.8255, [8, 6, 2, 7, 0, 5, 3, 4, 1, 9]]\n"
          ],
          "name": "stdout"
        }
      ]
    },
    {
      "cell_type": "markdown",
      "metadata": {
        "id": "eGDB4K6uk1iN",
        "colab_type": "text"
      },
      "source": [
        "(*)Calcula la complejidad del algoritmo "
      ]
    },
    {
      "cell_type": "markdown",
      "metadata": {
        "id": "NhpTh_BPk1ms",
        "colab_type": "text"
      },
      "source": [
        "Respuesta    \n",
        "En este caso que nos ocupa el orden de magnitud de la complejidad está condicionado a las funciones sorted que se usan para ordenar tanto los partidos en función de la columna calculada <b>'PESO_PARTIDO'</b> (contiene cuantos espectadores tendra cada partido) como para ordenar <b>reduccion_horario</b> que contiene los coeficientes de reducción de la audiencia en función del día en que se jugará el partido. En ambos casos esta función de python según su correspondiente documentación tiene un coste de <b>O(n log n)</b>."
      ]
    },
    {
      "cell_type": "code",
      "metadata": {
        "id": "nREzhkStlCq8",
        "colab_type": "code",
        "colab": {}
      },
      "source": [
        ""
      ],
      "execution_count": 0,
      "outputs": []
    },
    {
      "cell_type": "markdown",
      "metadata": {
        "id": "3M6QjTsSkmYe",
        "colab_type": "text"
      },
      "source": [
        "Según el problema (y tenga sentido), diseña un juego de datos de entrada aleatorios"
      ]
    },
    {
      "cell_type": "markdown",
      "metadata": {
        "id": "Jc3_OlyNkvjZ",
        "colab_type": "text"
      },
      "source": [
        "Respuesta"
      ]
    },
    {
      "cell_type": "code",
      "metadata": {
        "id": "sJ-N2etjkyWc",
        "colab_type": "code",
        "colab": {}
      },
      "source": [
        ""
      ],
      "execution_count": 0,
      "outputs": []
    },
    {
      "cell_type": "markdown",
      "metadata": {
        "id": "zy5ZROmjlGo1",
        "colab_type": "text"
      },
      "source": [
        "Aplica el algoritmo al juego de datos generado"
      ]
    },
    {
      "cell_type": "markdown",
      "metadata": {
        "id": "_Cmj-PVylMsa",
        "colab_type": "text"
      },
      "source": [
        "Respuesta"
      ]
    },
    {
      "cell_type": "code",
      "metadata": {
        "id": "Jkx8GeiYlUz1",
        "colab_type": "code",
        "colab": {}
      },
      "source": [
        ""
      ],
      "execution_count": 0,
      "outputs": []
    },
    {
      "cell_type": "markdown",
      "metadata": {
        "colab_type": "text",
        "id": "eTFWUJQrtGcv"
      },
      "source": [
        "Enumera las referencias que has utilizado(si ha sido necesario) para llevar a cabo el trabajo"
      ]
    },
    {
      "cell_type": "markdown",
      "metadata": {
        "id": "YKQ_mRBttWsP",
        "colab_type": "text"
      },
      "source": [
        "Respuesta"
      ]
    },
    {
      "cell_type": "markdown",
      "metadata": {
        "id": "kAkDPUyRtYyH",
        "colab_type": "text"
      },
      "source": [
        "Describe brevemente las lineas de como crees que es posible avanzar en el estudio del problema. Ten en cuenta incluso posibles variaciones del problema y/o variaciones al alza del tamaño"
      ]
    },
    {
      "cell_type": "markdown",
      "metadata": {
        "id": "IE0uZmo-tZu-",
        "colab_type": "text"
      },
      "source": [
        "Respuesta"
      ]
    }
  ]
}